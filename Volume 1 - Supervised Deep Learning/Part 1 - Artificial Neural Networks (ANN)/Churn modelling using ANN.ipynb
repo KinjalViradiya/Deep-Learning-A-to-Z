{
 "cells": [
  {
   "cell_type": "code",
   "execution_count": 1,
   "metadata": {},
   "outputs": [],
   "source": [
    "# Importing the libraries\n",
    "import numpy as np\n",
    "import matplotlib.pyplot as plt\n",
    "import pandas as pd"
   ]
  },
  {
   "cell_type": "code",
   "execution_count": 3,
   "metadata": {},
   "outputs": [],
   "source": [
    "# Importing the dataset\n",
    "dataset = pd.read_csv('Churn_Modelling.csv')\n",
    "X = dataset.iloc[:, 3:13].values\n",
    "y = dataset.iloc[:, 13].values"
   ]
  },
  {
   "cell_type": "code",
   "execution_count": 4,
   "metadata": {},
   "outputs": [],
   "source": [
    "#Data processing\n",
    "# categorical data to numeric\n",
    "from sklearn.preprocessing import LabelEncoder,OneHotEncoder\n",
    "labelencoder_X_1 =LabelEncoder()\n",
    "X[:,1]=labelencoder_X_1.fit_transform(X[:,1])\n",
    "   "
   ]
  },
  {
   "cell_type": "code",
   "execution_count": 5,
   "metadata": {},
   "outputs": [
    {
     "data": {
      "text/plain": [
       "array([[619, 0, 'Female', ..., 1, 1, 101348.88],\n",
       "       [608, 2, 'Female', ..., 0, 1, 112542.58],\n",
       "       [502, 0, 'Female', ..., 1, 0, 113931.57],\n",
       "       ...,\n",
       "       [709, 0, 'Female', ..., 0, 1, 42085.58],\n",
       "       [772, 1, 'Male', ..., 1, 0, 92888.52],\n",
       "       [792, 0, 'Female', ..., 1, 0, 38190.78]], dtype=object)"
      ]
     },
     "execution_count": 5,
     "metadata": {},
     "output_type": "execute_result"
    }
   ],
   "source": [
    "X"
   ]
  },
  {
   "cell_type": "code",
   "execution_count": 6,
   "metadata": {},
   "outputs": [],
   "source": [
    "labelencoder_X_2 =LabelEncoder()\n",
    "X[:,2]=labelencoder_X_2.fit_transform(X[:,2])"
   ]
  },
  {
   "cell_type": "code",
   "execution_count": 7,
   "metadata": {},
   "outputs": [
    {
     "data": {
      "text/plain": [
       "array([[619, 0, 0, ..., 1, 1, 101348.88],\n",
       "       [608, 2, 0, ..., 0, 1, 112542.58],\n",
       "       [502, 0, 0, ..., 1, 0, 113931.57],\n",
       "       ...,\n",
       "       [709, 0, 0, ..., 0, 1, 42085.58],\n",
       "       [772, 1, 1, ..., 1, 0, 92888.52],\n",
       "       [792, 0, 0, ..., 1, 0, 38190.78]], dtype=object)"
      ]
     },
     "execution_count": 7,
     "metadata": {},
     "output_type": "execute_result"
    }
   ],
   "source": [
    "X"
   ]
  },
  {
   "cell_type": "code",
   "execution_count": 8,
   "metadata": {},
   "outputs": [
    {
     "name": "stderr",
     "output_type": "stream",
     "text": [
      "C:\\Users\\KINJAL\\.conda\\envs\\py3\\lib\\site-packages\\sklearn\\preprocessing\\_encoders.py:371: FutureWarning: The handling of integer data will change in version 0.22. Currently, the categories are determined based on the range [0, max(values)], while in the future they will be determined based on the unique values.\n",
      "If you want the future behaviour and silence this warning, you can specify \"categories='auto'\".\n",
      "In case you used a LabelEncoder before this OneHotEncoder to convert the categories to integers, then you can now use the OneHotEncoder directly.\n",
      "  warnings.warn(msg, FutureWarning)\n",
      "C:\\Users\\KINJAL\\.conda\\envs\\py3\\lib\\site-packages\\sklearn\\preprocessing\\_encoders.py:392: DeprecationWarning: The 'categorical_features' keyword is deprecated in version 0.20 and will be removed in 0.22. You can use the ColumnTransformer instead.\n",
      "  \"use the ColumnTransformer instead.\", DeprecationWarning)\n"
     ]
    }
   ],
   "source": [
    "onehotEncoder =OneHotEncoder(categorical_features=[1])\n",
    "X= onehotEncoder.fit_transform(X).toarray()   "
   ]
  },
  {
   "cell_type": "code",
   "execution_count": 11,
   "metadata": {},
   "outputs": [],
   "source": [
    "X=X[:,1:] #dummy variable trap"
   ]
  },
  {
   "cell_type": "code",
   "execution_count": 13,
   "metadata": {},
   "outputs": [],
   "source": [
    "# Splitting the dataset into the Training set and Test set\n",
    "from sklearn.model_selection import train_test_split\n",
    "X_train, X_test, y_train, y_test = train_test_split(X, y, test_size = 0.25, random_state = 0)"
   ]
  },
  {
   "cell_type": "code",
   "execution_count": 14,
   "metadata": {},
   "outputs": [],
   "source": [
    "# Feature Scaling\n",
    "from sklearn.preprocessing import StandardScaler\n",
    "sc = StandardScaler()\n",
    "X_train = sc.fit_transform(X_train)\n",
    "X_test = sc.transform(X_test)"
   ]
  },
  {
   "cell_type": "markdown",
   "metadata": {},
   "source": [
    "**lets make the ANN**"
   ]
  },
  {
   "cell_type": "code",
   "execution_count": 22,
   "metadata": {},
   "outputs": [],
   "source": [
    "#import libraries\n",
    "from keras.layers import Dense\n",
    "from keras.models import Sequential"
   ]
  },
  {
   "cell_type": "markdown",
   "metadata": {},
   "source": [
    "**initalizing the ANN**"
   ]
  },
  {
   "cell_type": "code",
   "execution_count": 30,
   "metadata": {},
   "outputs": [],
   "source": [
    "classifier=Sequential()\n",
    "#adding the input layer and the first hidden layer\n",
    "classifier.add(Dense(units=6, kernel_initializer='uniform', input_dim=11, activation='relu'))"
   ]
  },
  {
   "cell_type": "code",
   "execution_count": 31,
   "metadata": {},
   "outputs": [],
   "source": [
    "#adding the second hidden layer\n",
    "classifier.add(Dense(units=6, kernel_initializer='uniform', activation='relu'))"
   ]
  },
  {
   "cell_type": "code",
   "execution_count": 32,
   "metadata": {},
   "outputs": [],
   "source": [
    "classifier.add(Dense(units=1, kernel_initializer='uniform', activation='sigmoid'))"
   ]
  },
  {
   "cell_type": "markdown",
   "metadata": {},
   "source": [
    "**Compiling the ANN**\n",
    " "
   ]
  },
  {
   "cell_type": "code",
   "execution_count": 34,
   "metadata": {},
   "outputs": [
    {
     "name": "stderr",
     "output_type": "stream",
     "text": [
      "W0918 23:52:07.152544 14796 deprecation_wrapper.py:119] From C:\\Users\\KINJAL\\.conda\\envs\\py3\\lib\\site-packages\\keras\\optimizers.py:790: The name tf.train.Optimizer is deprecated. Please use tf.compat.v1.train.Optimizer instead.\n",
      "\n",
      "W0918 23:52:07.193431 14796 deprecation_wrapper.py:119] From C:\\Users\\KINJAL\\.conda\\envs\\py3\\lib\\site-packages\\keras\\backend\\tensorflow_backend.py:3376: The name tf.log is deprecated. Please use tf.math.log instead.\n",
      "\n",
      "W0918 23:52:07.201411 14796 deprecation.py:323] From C:\\Users\\KINJAL\\.conda\\envs\\py3\\lib\\site-packages\\tensorflow\\python\\ops\\nn_impl.py:180: add_dispatch_support.<locals>.wrapper (from tensorflow.python.ops.array_ops) is deprecated and will be removed in a future version.\n",
      "Instructions for updating:\n",
      "Use tf.where in 2.0, which has the same broadcast rule as np.where\n"
     ]
    }
   ],
   "source": [
    "classifier.compile(optimizer='adam',loss='binary_crossentropy',metrics=['accuracy'])"
   ]
  },
  {
   "cell_type": "code",
   "execution_count": 35,
   "metadata": {},
   "outputs": [
    {
     "name": "stderr",
     "output_type": "stream",
     "text": [
      "W0918 23:55:53.449402 14796 deprecation_wrapper.py:119] From C:\\Users\\KINJAL\\.conda\\envs\\py3\\lib\\site-packages\\keras\\backend\\tensorflow_backend.py:986: The name tf.assign_add is deprecated. Please use tf.compat.v1.assign_add instead.\n",
      "\n"
     ]
    },
    {
     "name": "stdout",
     "output_type": "stream",
     "text": [
      "Epoch 1/100\n",
      "7500/7500 [==============================] - 2s 302us/step - loss: 0.4893 - acc: 0.7961\n",
      "Epoch 2/100\n",
      "7500/7500 [==============================] - 1s 107us/step - loss: 0.4284 - acc: 0.7963\n",
      "Epoch 3/100\n",
      "7500/7500 [==============================] - 1s 137us/step - loss: 0.4215 - acc: 0.8101\n",
      "Epoch 4/100\n",
      "7500/7500 [==============================] - 1s 118us/step - loss: 0.4156 - acc: 0.8280\n",
      "Epoch 5/100\n",
      "7500/7500 [==============================] - 1s 143us/step - loss: 0.4118 - acc: 0.8308\n",
      "Epoch 6/100\n",
      "7500/7500 [==============================] - 1s 136us/step - loss: 0.4087 - acc: 0.8324\n",
      "Epoch 7/100\n",
      "7500/7500 [==============================] - 1s 104us/step - loss: 0.4060 - acc: 0.8347\n",
      "Epoch 8/100\n",
      "7500/7500 [==============================] - 1s 104us/step - loss: 0.4049 - acc: 0.8341\n",
      "Epoch 9/100\n",
      "7500/7500 [==============================] - 1s 105us/step - loss: 0.4030 - acc: 0.8361\n",
      "Epoch 10/100\n",
      "7500/7500 [==============================] - 1s 137us/step - loss: 0.4019 - acc: 0.8339\n",
      "Epoch 11/100\n",
      "7500/7500 [==============================] - 1s 104us/step - loss: 0.4009 - acc: 0.8356\n",
      "Epoch 12/100\n",
      "7500/7500 [==============================] - 1s 104us/step - loss: 0.3999 - acc: 0.8339\n",
      "Epoch 13/100\n",
      "7500/7500 [==============================] - 1s 107us/step - loss: 0.3994 - acc: 0.8357\n",
      "Epoch 14/100\n",
      "7500/7500 [==============================] - 1s 118us/step - loss: 0.3994 - acc: 0.8332\n",
      "Epoch 15/100\n",
      "7500/7500 [==============================] - 1s 128us/step - loss: 0.3985 - acc: 0.8337\n",
      "Epoch 16/100\n",
      "7500/7500 [==============================] - 1s 100us/step - loss: 0.3989 - acc: 0.8339\n",
      "Epoch 17/100\n",
      "7500/7500 [==============================] - 1s 102us/step - loss: 0.3986 - acc: 0.8344\n",
      "Epoch 18/100\n",
      "7500/7500 [==============================] - 1s 106us/step - loss: 0.3974 - acc: 0.8344\n",
      "Epoch 19/100\n",
      "7500/7500 [==============================] - 1s 103us/step - loss: 0.3976 - acc: 0.8353\n",
      "Epoch 20/100\n",
      "7500/7500 [==============================] - 1s 102us/step - loss: 0.3977 - acc: 0.8340\n",
      "Epoch 21/100\n",
      "7500/7500 [==============================] - 1s 101us/step - loss: 0.3977 - acc: 0.8339\n",
      "Epoch 22/100\n",
      "7500/7500 [==============================] - 1s 103us/step - loss: 0.3975 - acc: 0.8349\n",
      "Epoch 23/100\n",
      "7500/7500 [==============================] - 1s 105us/step - loss: 0.3967 - acc: 0.8377\n",
      "Epoch 24/100\n",
      "7500/7500 [==============================] - 1s 102us/step - loss: 0.3962 - acc: 0.8336\n",
      "Epoch 25/100\n",
      "7500/7500 [==============================] - 1s 103us/step - loss: 0.3968 - acc: 0.8356\n",
      "Epoch 26/100\n",
      "7500/7500 [==============================] - 1s 102us/step - loss: 0.3965 - acc: 0.8349\n",
      "Epoch 27/100\n",
      "7500/7500 [==============================] - 1s 102us/step - loss: 0.3965 - acc: 0.8341\n",
      "Epoch 28/100\n",
      "7500/7500 [==============================] - 1s 103us/step - loss: 0.3960 - acc: 0.8359\n",
      "Epoch 29/100\n",
      "7500/7500 [==============================] - 1s 103us/step - loss: 0.3964 - acc: 0.8347\n",
      "Epoch 30/100\n",
      "7500/7500 [==============================] - 1s 102us/step - loss: 0.3950 - acc: 0.8367\n",
      "Epoch 31/100\n",
      "7500/7500 [==============================] - 1s 103us/step - loss: 0.3961 - acc: 0.8349\n",
      "Epoch 32/100\n",
      "7500/7500 [==============================] - 1s 102us/step - loss: 0.3957 - acc: 0.8353\n",
      "Epoch 33/100\n",
      "7500/7500 [==============================] - 1s 103us/step - loss: 0.3954 - acc: 0.8348\n",
      "Epoch 34/100\n",
      "7500/7500 [==============================] - 1s 112us/step - loss: 0.3952 - acc: 0.8360\n",
      "Epoch 35/100\n",
      "7500/7500 [==============================] - 1s 97us/step - loss: 0.3951 - acc: 0.8359\n",
      "Epoch 36/100\n",
      "7500/7500 [==============================] - 1s 96us/step - loss: 0.3946 - acc: 0.8361\n",
      "Epoch 37/100\n",
      "7500/7500 [==============================] - 1s 97us/step - loss: 0.3948 - acc: 0.8364\n",
      "Epoch 38/100\n",
      "7500/7500 [==============================] - 1s 98us/step - loss: 0.3947 - acc: 0.8351\n",
      "Epoch 39/100\n",
      "7500/7500 [==============================] - 1s 105us/step - loss: 0.3946 - acc: 0.8351\n",
      "Epoch 40/100\n",
      "7500/7500 [==============================] - 1s 102us/step - loss: 0.3947 - acc: 0.8348\n",
      "Epoch 41/100\n",
      "7500/7500 [==============================] - 1s 101us/step - loss: 0.3948 - acc: 0.8364\n",
      "Epoch 42/100\n",
      "7500/7500 [==============================] - 1s 101us/step - loss: 0.3947 - acc: 0.8377\n",
      "Epoch 43/100\n",
      "7500/7500 [==============================] - 1s 101us/step - loss: 0.3945 - acc: 0.8373\n",
      "Epoch 44/100\n",
      "7500/7500 [==============================] - 1s 105us/step - loss: 0.3945 - acc: 0.8343\n",
      "Epoch 45/100\n",
      "7500/7500 [==============================] - 1s 102us/step - loss: 0.3945 - acc: 0.8339\n",
      "Epoch 46/100\n",
      "7500/7500 [==============================] - 1s 116us/step - loss: 0.3944 - acc: 0.8345\n",
      "Epoch 47/100\n",
      "7500/7500 [==============================] - 1s 103us/step - loss: 0.3946 - acc: 0.8347\n",
      "Epoch 48/100\n",
      "7500/7500 [==============================] - 1s 122us/step - loss: 0.3945 - acc: 0.8368\n",
      "Epoch 49/100\n",
      "7500/7500 [==============================] - 1s 149us/step - loss: 0.3944 - acc: 0.8376\n",
      "Epoch 50/100\n",
      "7500/7500 [==============================] - 1s 127us/step - loss: 0.3943 - acc: 0.8360\n",
      "Epoch 51/100\n",
      "7500/7500 [==============================] - 1s 158us/step - loss: 0.3936 - acc: 0.8351\n",
      "Epoch 52/100\n",
      "7500/7500 [==============================] - 1s 104us/step - loss: 0.3943 - acc: 0.8361\n",
      "Epoch 53/100\n",
      "7500/7500 [==============================] - 1s 107us/step - loss: 0.3937 - acc: 0.8355\n",
      "Epoch 54/100\n",
      "7500/7500 [==============================] - 1s 108us/step - loss: 0.3942 - acc: 0.8367\n",
      "Epoch 55/100\n",
      "7500/7500 [==============================] - 1s 112us/step - loss: 0.3942 - acc: 0.8367\n",
      "Epoch 56/100\n",
      "7500/7500 [==============================] - 1s 104us/step - loss: 0.3941 - acc: 0.8353\n",
      "Epoch 57/100\n",
      "7500/7500 [==============================] - 1s 105us/step - loss: 0.3940 - acc: 0.8371\n",
      "Epoch 58/100\n",
      "7500/7500 [==============================] - 1s 130us/step - loss: 0.3937 - acc: 0.8373\n",
      "Epoch 59/100\n",
      "7500/7500 [==============================] - 1s 110us/step - loss: 0.3940 - acc: 0.8361\n",
      "Epoch 60/100\n",
      "7500/7500 [==============================] - 1s 104us/step - loss: 0.3935 - acc: 0.8365\n",
      "Epoch 61/100\n",
      "7500/7500 [==============================] - 1s 106us/step - loss: 0.3937 - acc: 0.8356\n",
      "Epoch 62/100\n",
      "7500/7500 [==============================] - 1s 107us/step - loss: 0.3936 - acc: 0.8365\n",
      "Epoch 63/100\n",
      "7500/7500 [==============================] - 1s 108us/step - loss: 0.3930 - acc: 0.8363\n",
      "Epoch 64/100\n",
      "7500/7500 [==============================] - 1s 106us/step - loss: 0.3933 - acc: 0.8372\n",
      "Epoch 65/100\n",
      "7500/7500 [==============================] - 1s 105us/step - loss: 0.3929 - acc: 0.8376\n",
      "Epoch 66/100\n",
      "7500/7500 [==============================] - 1s 114us/step - loss: 0.3923 - acc: 0.8372\n",
      "Epoch 67/100\n",
      "7500/7500 [==============================] - 1s 112us/step - loss: 0.3930 - acc: 0.8380\n",
      "Epoch 68/100\n",
      "7500/7500 [==============================] - 1s 106us/step - loss: 0.3933 - acc: 0.8368\n",
      "Epoch 69/100\n",
      "7500/7500 [==============================] - 1s 106us/step - loss: 0.3930 - acc: 0.8372\n",
      "Epoch 70/100\n",
      "7500/7500 [==============================] - 1s 107us/step - loss: 0.3924 - acc: 0.8397\n",
      "Epoch 71/100\n",
      "7500/7500 [==============================] - 1s 104us/step - loss: 0.3929 - acc: 0.8369\n",
      "Epoch 72/100\n",
      "7500/7500 [==============================] - 1s 108us/step - loss: 0.3918 - acc: 0.8380\n",
      "Epoch 73/100\n",
      "7500/7500 [==============================] - 1s 106us/step - loss: 0.3922 - acc: 0.8375\n",
      "Epoch 74/100\n",
      "7500/7500 [==============================] - 1s 106us/step - loss: 0.3913 - acc: 0.8389\n",
      "Epoch 75/100\n",
      "7500/7500 [==============================] - 1s 106us/step - loss: 0.3908 - acc: 0.8393\n",
      "Epoch 76/100\n",
      "7500/7500 [==============================] - 1s 103us/step - loss: 0.3899 - acc: 0.8400\n",
      "Epoch 77/100\n",
      "7500/7500 [==============================] - 1s 107us/step - loss: 0.3874 - acc: 0.8399\n",
      "Epoch 78/100\n",
      "7500/7500 [==============================] - 1s 121us/step - loss: 0.3857 - acc: 0.8395\n",
      "Epoch 79/100\n",
      "7500/7500 [==============================] - 1s 106us/step - loss: 0.3830 - acc: 0.8393\n",
      "Epoch 80/100\n",
      "7500/7500 [==============================] - 1s 105us/step - loss: 0.3810 - acc: 0.8399\n",
      "Epoch 81/100\n",
      "7500/7500 [==============================] - 1s 106us/step - loss: 0.3784 - acc: 0.8396\n",
      "Epoch 82/100\n"
     ]
    },
    {
     "name": "stdout",
     "output_type": "stream",
     "text": [
      "7500/7500 [==============================] - 1s 109us/step - loss: 0.3768 - acc: 0.8401\n",
      "Epoch 83/100\n",
      "7500/7500 [==============================] - 1s 104us/step - loss: 0.3749 - acc: 0.8391\n",
      "Epoch 84/100\n",
      "7500/7500 [==============================] - 1s 103us/step - loss: 0.3731 - acc: 0.8433\n",
      "Epoch 85/100\n",
      "7500/7500 [==============================] - 1s 104us/step - loss: 0.3713 - acc: 0.8408\n",
      "Epoch 86/100\n",
      "7500/7500 [==============================] - 1s 108us/step - loss: 0.3714 - acc: 0.8415\n",
      "Epoch 87/100\n",
      "7500/7500 [==============================] - 1s 107us/step - loss: 0.3711 - acc: 0.8420\n",
      "Epoch 88/100\n",
      "7500/7500 [==============================] - 1s 111us/step - loss: 0.3690 - acc: 0.8431\n",
      "Epoch 89/100\n",
      "7500/7500 [==============================] - 1s 106us/step - loss: 0.3675 - acc: 0.8417\n",
      "Epoch 90/100\n",
      "7500/7500 [==============================] - 1s 104us/step - loss: 0.3673 - acc: 0.8441\n",
      "Epoch 91/100\n",
      "7500/7500 [==============================] - 1s 108us/step - loss: 0.3667 - acc: 0.8424\n",
      "Epoch 92/100\n",
      "7500/7500 [==============================] - 1s 112us/step - loss: 0.3659 - acc: 0.8440\n",
      "Epoch 93/100\n",
      "7500/7500 [==============================] - 1s 108us/step - loss: 0.3652 - acc: 0.8443\n",
      "Epoch 94/100\n",
      "7500/7500 [==============================] - 1s 102us/step - loss: 0.3647 - acc: 0.8443\n",
      "Epoch 95/100\n",
      "7500/7500 [==============================] - 1s 104us/step - loss: 0.3634 - acc: 0.8443\n",
      "Epoch 96/100\n",
      "7500/7500 [==============================] - 1s 104us/step - loss: 0.3626 - acc: 0.8444\n",
      "Epoch 97/100\n",
      "7500/7500 [==============================] - 1s 106us/step - loss: 0.3615 - acc: 0.8465\n",
      "Epoch 98/100\n",
      "7500/7500 [==============================] - 1s 108us/step - loss: 0.3613 - acc: 0.8468\n",
      "Epoch 99/100\n",
      "7500/7500 [==============================] - 1s 105us/step - loss: 0.3610 - acc: 0.8467\n",
      "Epoch 100/100\n",
      "7500/7500 [==============================] - 1s 103us/step - loss: 0.3602 - acc: 0.8476\n"
     ]
    },
    {
     "data": {
      "text/plain": [
       "<keras.callbacks.History at 0x250ff7756d8>"
      ]
     },
     "execution_count": 35,
     "metadata": {},
     "output_type": "execute_result"
    }
   ],
   "source": [
    "#fitting the ANN to the training set\n",
    "classifier.fit(X_train, y_train, batch_size=10, epochs=100)\n"
   ]
  },
  {
   "cell_type": "code",
   "execution_count": 36,
   "metadata": {},
   "outputs": [],
   "source": [
    "# make the prediction\n",
    "y_pred=classifier.predict(X_test)"
   ]
  },
  {
   "cell_type": "code",
   "execution_count": 38,
   "metadata": {},
   "outputs": [],
   "source": [
    "y_pred=(y_pred>0.5)"
   ]
  },
  {
   "cell_type": "code",
   "execution_count": 39,
   "metadata": {},
   "outputs": [],
   "source": [
    "#making the confusion matrix\n",
    "from sklearn.metrics import confusion_matrix\n",
    "cm=confusion_matrix(y_test,y_pred)"
   ]
  },
  {
   "cell_type": "code",
   "execution_count": 43,
   "metadata": {},
   "outputs": [
    {
     "data": {
      "text/plain": [
       "array([[1906,   85],\n",
       "       [ 293,  216]], dtype=int64)"
      ]
     },
     "execution_count": 43,
     "metadata": {},
     "output_type": "execute_result"
    }
   ],
   "source": [
    "cm"
   ]
  },
  {
   "cell_type": "code",
   "execution_count": 44,
   "metadata": {},
   "outputs": [
    {
     "data": {
      "text/plain": [
       "0.8488"
      ]
     },
     "execution_count": 44,
     "metadata": {},
     "output_type": "execute_result"
    }
   ],
   "source": [
    "(1906+216)/2500 #accuaracy"
   ]
  },
  {
   "cell_type": "code",
   "execution_count": null,
   "metadata": {},
   "outputs": [],
   "source": []
  }
 ],
 "metadata": {
  "kernelspec": {
   "display_name": "Python 3",
   "language": "python",
   "name": "python3"
  },
  "language_info": {
   "codemirror_mode": {
    "name": "ipython",
    "version": 3
   },
   "file_extension": ".py",
   "mimetype": "text/x-python",
   "name": "python",
   "nbconvert_exporter": "python",
   "pygments_lexer": "ipython3",
   "version": "3.7.3"
  }
 },
 "nbformat": 4,
 "nbformat_minor": 2
}
